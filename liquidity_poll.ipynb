{
 "cells": [
  {
   "cell_type": "markdown",
   "metadata": {},
   "source": [
    "### --- Assume all company submitted; assume all blank columns and length of 1; assume \"0.2x size\" format wont change"
   ]
  },
  {
   "cell_type": "code",
   "execution_count": 136,
   "metadata": {},
   "outputs": [],
   "source": [
    "import pandas as pd\n",
    "import numpy as np\n",
    "import xlrd"
   ]
  },
  {
   "cell_type": "code",
   "execution_count": 137,
   "metadata": {},
   "outputs": [],
   "source": [
    "sheets_dict = pd.read_excel(\"Input_File.xlsx\", sheet_name=None)\n",
    "workbook = xlrd.open_workbook(\"Input_File.xlsx\")"
   ]
  },
  {
   "cell_type": "code",
   "execution_count": 138,
   "metadata": {},
   "outputs": [],
   "source": [
    "sheet_names = workbook.sheet_names()\n",
    "worksheets = {}\n",
    "for i in range(len(sheet_names)-1):\n",
    "    worksheets[sheet_names[i+1]] = workbook.sheet_by_name(sheet_names[i+1])"
   ]
  },
  {
   "cell_type": "code",
   "execution_count": 139,
   "metadata": {},
   "outputs": [],
   "source": [
    "def check_not_empty(worksheet,row,col):\n",
    "        return worksheet.cell(row,col).value != ''\n",
    "\n",
    "def check_whole_col_empty(worksheet,tot_rows,col):\n",
    "    result = True\n",
    "    for i in range(tot_rows):\n",
    "        if check_not_empty(worksheet,i,col):\n",
    "            result = False\n",
    "            break;\n",
    "    return result;\n",
    "\n",
    "def combine_consecutive_number(alist):\n",
    "    seat_need_delete = []\n",
    "    for i in range(len(alist)-1):\n",
    "        if alist[i+1] == alist[i]+1:\n",
    "            seat_need_delete.append(alist[i])\n",
    "    result = list(set(alist)-set(seat_need_delete))\n",
    "    result.sort()\n",
    "    return result\n",
    "\n",
    "def str_contains(str1,str2,str3='yuezhou',str4='yuezhou'):\n",
    "    result = False\n",
    "    if str2 in str1:\n",
    "        result = True\n",
    "    if str3 in str1:\n",
    "        result = True\n",
    "    if str4 in str1:\n",
    "        result = True\n",
    "    return result;\n",
    "\n",
    "def get_size_from_string(astring):\n",
    "    astring = astring.replace('x','')\n",
    "    return float(astring.split()[0])"
   ]
  },
  {
   "cell_type": "markdown",
   "metadata": {},
   "source": [
    "### Get all blank rows and cols"
   ]
  },
  {
   "cell_type": "code",
   "execution_count": 140,
   "metadata": {},
   "outputs": [],
   "source": [
    "worksheet_now = worksheets[sheet_names[1]]\n",
    "n_cols = worksheet_now.ncols\n",
    "n_rows = worksheet_now.nrows\n",
    "\n",
    "effective_cols =[]\n",
    "effective_rows = []\n",
    "\n",
    "for i in range(n_cols):\n",
    "    if not check_whole_col_empty(worksheet_now,n_rows,i):\n",
    "        effective_cols.append(i)\n",
    "        \n",
    "empty_cols = list(set(range(0,n_cols))-set(effective_cols))\n",
    "empty_cols.sort()        \n",
    "\n",
    "# attention: first 2 in the effective cols are \"median\" and \"bis/ask spread for a trade\"\n",
    "for i in range(n_rows):\n",
    "    if check_not_empty(worksheet_now,i,empty_cols[0]+1):\n",
    "        effective_rows.append(i)\n",
    "        \n",
    "above_table_empty_rows = list(set(range(effective_rows[0],effective_rows[-1]))-set(effective_rows))\n",
    "above_table_empty_rows.sort()\n",
    "above_table_empty_rows = combine_consecutive_number(above_table_empty_rows)"
   ]
  },
  {
   "cell_type": "markdown",
   "metadata": {},
   "source": [
    "### get CCY --list"
   ]
  },
  {
   "cell_type": "code",
   "execution_count": 141,
   "metadata": {},
   "outputs": [
    {
     "data": {
      "text/plain": [
       "'USD'"
      ]
     },
     "execution_count": 141,
     "metadata": {},
     "output_type": "execute_result"
    }
   ],
   "source": [
    "currency = worksheet_now.cell(4,0).value\n",
    "currency"
   ]
  },
  {
   "cell_type": "markdown",
   "metadata": {},
   "source": [
    "### Get Trade Type --list"
   ]
  },
  {
   "cell_type": "code",
   "execution_count": 142,
   "metadata": {
    "scrolled": true
   },
   "outputs": [],
   "source": [
    "tradetype = []\n",
    "for i in above_table_empty_rows:\n",
    "    # no need to plus 1 here\n",
    "    tradetype.append(worksheet_now.cell(i+1,0).value)"
   ]
  },
  {
   "cell_type": "markdown",
   "metadata": {},
   "source": [
    "### Get Firm name --list"
   ]
  },
  {
   "cell_type": "code",
   "execution_count": 143,
   "metadata": {},
   "outputs": [],
   "source": [
    "firms = []\n",
    "for i in range(n_cols):\n",
    "    if check_not_empty(worksheet_now,above_table_empty_rows[0]-1,i):\n",
    "        firms.append(worksheet_now.cell(above_table_empty_rows[0]-1,i).value)"
   ]
  },
  {
   "cell_type": "markdown",
   "metadata": {},
   "source": [
    "###  tenors (and sizes) -- a dict  indexing on Trade Type --- and is same for each company"
   ]
  },
  {
   "cell_type": "code",
   "execution_count": 145,
   "metadata": {},
   "outputs": [],
   "source": [
    "# different trade type may have different ternor collection\n",
    "tenors = {}\n",
    "size_bases = {}\n",
    "frame_rows = above_table_empty_rows.copy()\n",
    "frame_cols = empty_cols.copy()\n",
    "frame_rows.append(effective_rows[-1]+1)\n",
    "frame_cols.append(effective_cols[-1]+1)\n",
    "j=0\n",
    "# first loop: each descriptive table:higher to lower\n",
    "\n",
    "for i in range(len(frame_rows)-1): \n",
    "    \n",
    "    symbol = '+'\n",
    "    row_inuse = frame_rows[i]\n",
    "    next_row = frame_rows[i+1]\n",
    "    tenor_ele = {}\n",
    "    tenor_choice = []\n",
    "    size_choice = []\n",
    "    \n",
    "    name = tradetype[j]\n",
    "    \n",
    "    for rows_in_table in range(row_inuse+2,next_row):\n",
    "        a_tenor = ''\n",
    "        a_size = 0\n",
    "        if rows_in_table == row_inuse+2:\n",
    "            for k in range(1,empty_cols[0]):\n",
    "                if check_not_empty(worksheet_now,rows_in_table,k):\n",
    "                    tenor_ele[k] = worksheet_now.cell(rows_in_table,k).value\n",
    "                    \n",
    "        if rows_in_table != row_inuse+2:    \n",
    "            for k in range(1,empty_cols[0]): # empty is in fact the furtherest \n",
    "                if check_not_empty(worksheet_now,rows_in_table,k):\n",
    "                    if  worksheet_now.cell(rows_in_table,k).value >0:\n",
    "                        symbol = '+'\n",
    "                    else:\n",
    "                        symbol = '-'\n",
    "                    a_tenor= a_tenor + symbol + tenor_ele[k]+ ' '\n",
    "                    a_size = worksheet_now.cell(rows_in_table,k).value\n",
    "            tenor_choice.append(a_tenor)\n",
    "            size_choice.append(abs(a_size)*1000000)\n",
    "    tenors[name] = tenor_choice  \n",
    "    size_bases[name] = size_choice\n",
    "    j=j+1"
   ]
  },
  {
   "cell_type": "markdown",
   "metadata": {},
   "source": [
    "### size multiplier; which indexing on tradetype"
   ]
  },
  {
   "cell_type": "code",
   "execution_count": 193,
   "metadata": {},
   "outputs": [],
   "source": [
    "size_mul = {}\n",
    "for i in above_table_empty_rows:\n",
    "    multiplier = []\n",
    "    name = worksheet_now.cell(i+1,0).value\n",
    "    for j in range(empty_cols[0]+1,empty_cols[1]):\n",
    "        if check_not_empty(worksheet_now,i+2,j):\n",
    "            multiplier.append(get_size_from_string(worksheet_now.cell(i+2,j).value))\n",
    "            #multiplier.append(worksheet_now.cell(i+2,j).value)\n",
    "        else:pass;\n",
    "    size_mul[name] = multiplier"
   ]
  },
  {
   "cell_type": "code",
   "execution_count": 194,
   "metadata": {},
   "outputs": [
    {
     "data": {
      "text/plain": [
       "{'Basis Swap': [0.2, 0.5, 1.0, 2.0, 5.0, 10.0],\n",
       " 'Fed Fund - LIBOR Basis Swap': [0.2, 0.5, 1.0, 2.0, 5.0, 10.0],\n",
       " 'Invoice Swap': [0.2, 0.5, 1.0, 2.0, 5.0, 10.0],\n",
       " 'OIS Outright': [0.2, 0.5, 1.0, 2.0, 5.0, 10.0],\n",
       " 'Vanilla Butterfly': [0.2, 0.5, 1.0, 2.0, 5.0, 10.0],\n",
       " 'Vanilla Curve Spread': [0.2, 0.5, 1.0, 2.0, 5.0, 10.0],\n",
       " 'Vanilla Outright': [0.2, 0.5, 1.0, 2.0, 5.0, 10.0],\n",
       " 'Zero Coupon Outright': [0.2, 0.5, 1.0, 2.0, 5.0, 10.0]}"
      ]
     },
     "execution_count": 194,
     "metadata": {},
     "output_type": "execute_result"
    }
   ],
   "source": [
    "size_mul"
   ]
  },
  {
   "cell_type": "markdown",
   "metadata": {},
   "source": [
    "### loop each company to find out the spread"
   ]
  },
  {
   "cell_type": "code",
   "execution_count": 146,
   "metadata": {},
   "outputs": [],
   "source": [
    "output = pd.DataFrame(columns= ['CCY','Trade_Type','Firm','Tenor','DV01_Size','Bid_Ask_Spread'])"
   ]
  },
  {
   "cell_type": "code",
   "execution_count": 147,
   "metadata": {},
   "outputs": [
    {
     "data": {
      "text/plain": [
       "[6, 23, 36, 49, 60, 73, 80, 93, 106]"
      ]
     },
     "execution_count": 147,
     "metadata": {},
     "output_type": "execute_result"
    }
   ],
   "source": [
    "frame_rows"
   ]
  },
  {
   "cell_type": "code",
   "execution_count": 148,
   "metadata": {},
   "outputs": [
    {
     "data": {
      "text/plain": [
       "[8,\n",
       " 15,\n",
       " 22,\n",
       " 29,\n",
       " 36,\n",
       " 43,\n",
       " 50,\n",
       " 57,\n",
       " 64,\n",
       " 71,\n",
       " 78,\n",
       " 85,\n",
       " 92,\n",
       " 99,\n",
       " 106,\n",
       " 113,\n",
       " 120,\n",
       " 127,\n",
       " 134,\n",
       " 141,\n",
       " 148,\n",
       " 155,\n",
       " 162,\n",
       " 169,\n",
       " 176]"
      ]
     },
     "execution_count": 148,
     "metadata": {},
     "output_type": "execute_result"
    }
   ],
   "source": [
    "frame_cols"
   ]
  },
  {
   "cell_type": "code",
   "execution_count": 166,
   "metadata": {},
   "outputs": [],
   "source": [
    "spreads = []\n",
    "for j in range(len(frame_rows)-1):    \n",
    "    row_inuse = frame_rows[j]\n",
    "    #print(row_inuse)\n",
    "    row_next = frame_rows[j+1]\n",
    "\n",
    "    for i in range(len(frame_cols)-1):\n",
    "        col_inuse = frame_cols[i]+1\n",
    "        col_next = frame_cols[i+1]\n",
    "        for arow in range(row_inuse+3,row_next):\n",
    "            for acol in range(col_inuse,col_next):\n",
    "                spreads.append(worksheet_now.cell(arow,acol).value)\n",
    "                #print(arow,acol)\n",
    "                "
   ]
  },
  {
   "cell_type": "markdown",
   "metadata": {},
   "source": [
    "### prepare sizes"
   ]
  },
  {
   "cell_type": "code",
   "execution_count": 200,
   "metadata": {},
   "outputs": [],
   "source": [
    "sizes = {}\n",
    "for name in tradetype:\n",
    "    l1 = size_bases[name]\n",
    "    l2 = size_mul[name]\n",
    "    sizes[name] = list(map(lambda x ,y: x * y, l1, l2))"
   ]
  },
  {
   "cell_type": "code",
   "execution_count": 204,
   "metadata": {},
   "outputs": [],
   "source": [
    "#for ccy in sheet_names:\n",
    "test=0\n",
    "for tt in tradetype:\n",
    "    for firm in firms:\n",
    "        for ten in tenors[tt]:\n",
    "            for siz in sizes[tt]:\n",
    "                test = test+1"
   ]
  },
  {
   "cell_type": "code",
   "execution_count": 202,
   "metadata": {},
   "outputs": [
    {
     "data": {
      "text/plain": [
       "10944"
      ]
     },
     "execution_count": 202,
     "metadata": {},
     "output_type": "execute_result"
    }
   ],
   "source": [
    "len(spreads)"
   ]
  },
  {
   "cell_type": "code",
   "execution_count": 205,
   "metadata": {},
   "outputs": [
    {
     "data": {
      "text/plain": [
       "10752"
      ]
     },
     "execution_count": 205,
     "metadata": {},
     "output_type": "execute_result"
    }
   ],
   "source": [
    "test"
   ]
  },
  {
   "cell_type": "code",
   "execution_count": 207,
   "metadata": {},
   "outputs": [
    {
     "data": {
      "text/plain": [
       "24"
      ]
     },
     "execution_count": 207,
     "metadata": {},
     "output_type": "execute_result"
    }
   ],
   "source": [
    "len(firms)"
   ]
  },
  {
   "cell_type": "code",
   "execution_count": 208,
   "metadata": {},
   "outputs": [
    {
     "data": {
      "text/plain": [
       "20"
      ]
     },
     "execution_count": 208,
     "metadata": {},
     "output_type": "execute_result"
    }
   ],
   "source": [
    "len(tt)"
   ]
  },
  {
   "cell_type": "code",
   "execution_count": 216,
   "metadata": {},
   "outputs": [
    {
     "data": {
      "text/plain": [
       "{'Basis Swap': ['+1Y ',\n",
       "  '+2Y ',\n",
       "  '+5Y ',\n",
       "  '+10Y ',\n",
       "  '+30Y ',\n",
       "  '+1Y ',\n",
       "  '+2Y ',\n",
       "  '+5Y ',\n",
       "  '+10Y ',\n",
       "  '+30Y '],\n",
       " 'Fed Fund - LIBOR Basis Swap': ['+2Y ', '+5Y ', '+10Y ', '+30Y '],\n",
       " 'Invoice Swap': ['+2Y ',\n",
       "  '+5Y ',\n",
       "  '+10Y ',\n",
       "  '+30Y ',\n",
       "  '-2Y ',\n",
       "  '-5Y ',\n",
       "  '-10Y ',\n",
       "  '-30Y '],\n",
       " 'OIS Outright': ['+1Y ',\n",
       "  '+2Y ',\n",
       "  '+5Y ',\n",
       "  '+10Y ',\n",
       "  '+30Y ',\n",
       "  '-1Y ',\n",
       "  '-2Y ',\n",
       "  '-5Y ',\n",
       "  '-10Y ',\n",
       "  '-30Y '],\n",
       " 'Vanilla Butterfly': ['+1Y -2Y +5Y ',\n",
       "  '+1Y -2Y +10Y ',\n",
       "  '+1Y -5Y +10Y ',\n",
       "  '+1Y -2Y +30Y ',\n",
       "  '+1Y -5Y +30Y ',\n",
       "  '+1Y -10Y +30Y ',\n",
       "  '+2Y -5Y +10Y ',\n",
       "  '+5Y -10Y +30Y ',\n",
       "  '+2Y -5Y +30Y ',\n",
       "  '+2Y -10Y +30Y '],\n",
       " 'Vanilla Curve Spread': ['+1Y -2Y ',\n",
       "  '+1Y -5Y ',\n",
       "  '+1Y -10Y ',\n",
       "  '+1Y -30Y ',\n",
       "  '+2Y -5Y ',\n",
       "  '+2Y -10Y ',\n",
       "  '+2Y -30Y ',\n",
       "  '+5Y -10Y ',\n",
       "  '+5Y -30Y ',\n",
       "  '+10Y -30Y '],\n",
       " 'Vanilla Outright': ['+3m** ',\n",
       "  '+6m** ',\n",
       "  '+1Y ',\n",
       "  '+2Y ',\n",
       "  '+5Y ',\n",
       "  '+10Y ',\n",
       "  '+30Y ',\n",
       "  '-3m** ',\n",
       "  '-6m** ',\n",
       "  '-1Y ',\n",
       "  '-2Y ',\n",
       "  '-5Y ',\n",
       "  '-10Y ',\n",
       "  '-30Y '],\n",
       " 'Zero Coupon Outright': ['+1Y ',\n",
       "  '+2Y ',\n",
       "  '+5Y ',\n",
       "  '+10Y ',\n",
       "  '+30Y ',\n",
       "  '-1Y ',\n",
       "  '-2Y ',\n",
       "  '-5Y ',\n",
       "  '-10Y ',\n",
       "  '-30Y ']}"
      ]
     },
     "execution_count": 216,
     "metadata": {},
     "output_type": "execute_result"
    }
   ],
   "source": [
    "tenors"
   ]
  },
  {
   "cell_type": "code",
   "execution_count": 213,
   "metadata": {},
   "outputs": [
    {
     "name": "stdout",
     "output_type": "stream",
     "text": [
      "16\n",
      "20\n",
      "17\n",
      "12\n",
      "12\n",
      "27\n",
      "10\n",
      "20\n"
     ]
    }
   ],
   "source": [
    "for i in tenors:\n",
    "    print(len(i))"
   ]
  },
  {
   "cell_type": "code",
   "execution_count": 214,
   "metadata": {},
   "outputs": [
    {
     "name": "stdout",
     "output_type": "stream",
     "text": [
      "16\n",
      "20\n",
      "17\n",
      "12\n",
      "12\n",
      "27\n",
      "10\n",
      "20\n"
     ]
    }
   ],
   "source": [
    "for i in sizes:\n",
    "    print(len(i))"
   ]
  },
  {
   "cell_type": "code",
   "execution_count": null,
   "metadata": {},
   "outputs": [],
   "source": []
  }
 ],
 "metadata": {
  "kernelspec": {
   "display_name": "Python 3",
   "language": "python",
   "name": "python3"
  },
  "language_info": {
   "codemirror_mode": {
    "name": "ipython",
    "version": 3
   },
   "file_extension": ".py",
   "mimetype": "text/x-python",
   "name": "python",
   "nbconvert_exporter": "python",
   "pygments_lexer": "ipython3",
   "version": "3.6.4"
  }
 },
 "nbformat": 4,
 "nbformat_minor": 2
}
